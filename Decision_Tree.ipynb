{
 "cells": [
  {
   "cell_type": "code",
   "execution_count": 22,
   "metadata": {},
   "outputs": [],
   "source": [
    "import pandas as pd\n",
    "import matplotlib.pyplot as plt\n",
    "from sklearn import model_selection\n",
    "from yellowbrick.classifier import ConfusionMatrix\n",
    "from sklearn.metrics import classification_report\n",
    "from sklearn.metrics import confusion_matrix\n",
    "from sklearn.metrics import accuracy_score\n",
    "from sklearn.tree import DecisionTreeClassifier"
   ]
  },
  {
   "cell_type": "code",
   "execution_count": 23,
   "metadata": {},
   "outputs": [],
   "source": [
    "letters = pd.read_csv('letter-recog.csv')"
   ]
  },
  {
   "cell_type": "code",
   "execution_count": 24,
   "metadata": {},
   "outputs": [],
   "source": [
    "names = ['class',\n",
    "         'x-box',\n",
    "         'y-box',\n",
    "         'width',\n",
    "         'high',\n",
    "         'onpix',\n",
    "         'x-bar',\n",
    "         'y-bar',\n",
    "         'x2bar',\n",
    "         'y2bar',\n",
    "         'xybar',\n",
    "         'x2ybr',\n",
    "         'xy2br',\n",
    "         'x-ege',\n",
    "         'xegvy',\n",
    "         'y-ege',\n",
    "         'yegvx']\n",
    "\n",
    "dataset = pd.read_csv('letter-recog.csv')"
   ]
  },
  {
   "cell_type": "code",
   "execution_count": 25,
   "metadata": {},
   "outputs": [
    {
     "name": "stdout",
     "output_type": "stream",
     "text": [
      "(19999, 17)\n"
     ]
    }
   ],
   "source": [
    "print(dataset.shape)"
   ]
  },
  {
   "cell_type": "code",
   "execution_count": 26,
   "metadata": {},
   "outputs": [
    {
     "name": "stdout",
     "output_type": "stream",
     "text": [
      "(19999, 17)\n"
     ]
    }
   ],
   "source": [
    "print(dataset.shape)"
   ]
  },
  {
   "cell_type": "code",
   "execution_count": 27,
   "metadata": {},
   "outputs": [],
   "source": [
    "array = dataset.values\n",
    "\n",
    "X = array[:, 1:17]\n",
    "Y = array[:, 0]\n"
   ]
  },
  {
   "cell_type": "code",
   "execution_count": 28,
   "metadata": {},
   "outputs": [
    {
     "name": "stdout",
     "output_type": "stream",
     "text": [
      "X matrix dimensionality: (19999, 16)\n",
      "Y vector dimensionality: (19999,)\n"
     ]
    }
   ],
   "source": [
    "print('X matrix dimensionality:', X.shape)\n",
    "print('Y vector dimensionality:', Y.shape)"
   ]
  },
  {
   "cell_type": "code",
   "execution_count": 29,
   "metadata": {},
   "outputs": [],
   "source": [
    "X_train, X_validation, Y_train, Y_validation = model_selection.train_test_split(X, Y, test_size=0.20,\n",
    "                                                                                random_state=10, stratify=Y)"
   ]
  },
  {
   "cell_type": "code",
   "execution_count": 30,
   "metadata": {},
   "outputs": [
    {
     "name": "stdout",
     "output_type": "stream",
     "text": [
      "X_train:  (15999, 16)\n",
      "X_validation:  (4000, 16)\n",
      "Y_train:  (15999,)\n",
      "Y_validation:  (4000,)\n"
     ]
    }
   ],
   "source": [
    "print(\"X_train: \", X_train.shape)\n",
    "print(\"X_validation: \", X_validation.shape)\n",
    "print(\"Y_train: \", Y_train.shape)\n",
    "print(\"Y_validation: \", Y_validation.shape)"
   ]
  },
  {
   "cell_type": "code",
   "execution_count": 31,
   "metadata": {},
   "outputs": [],
   "source": [
    "dec_tree = DecisionTreeClassifier()"
   ]
  },
  {
   "cell_type": "code",
   "execution_count": 32,
   "metadata": {},
   "outputs": [
    {
     "data": {
      "image/png": "[encoded data removed]",
      "text/plain": [
       "<Figure size 576x396 with 1 Axes>"
      ]
     },
     "metadata": {},
     "output_type": "display_data"
    }
   ],
   "source": [
    "cm = ConfusionMatrix(dec_tree, classes=\"A,B,C,D,E,F,G,H,I,J,K,L,M,N,O,P,Q,R,S,T,U,V,W,X,Y,Z\".split(','))"
   ]
  },
  {
   "cell_type": "code",
   "execution_count": 33,
   "metadata": {},
   "outputs": [
    {
     "data": {
      "text/plain": [
       "ConfusionMatrix(ax=<matplotlib.axes._subplots.AxesSubplot object at 0x0A3C6750>,\n",
       "                classes=['A', 'B', 'C', 'D', 'E', 'F', 'G', 'H', 'I', 'J', 'K',\n",
       "                         'L', 'M', 'N', 'O', 'P', 'Q', 'R', 'S', 'T', 'U', 'V',\n",
       "                         'W', 'X', 'Y', 'Z'],\n",
       "                cmap=<matplotlib.colors.ListedColormap object at 0x09A43A10>,\n",
       "                encoder=None, fontsize=None, force_model=False,\n",
       "                is_fitted='auto', model=None, percent=False,\n",
       "                sample_weight=None)"
      ]
     },
     "execution_count": 33,
     "metadata": {},
     "output_type": "execute_result"
    }
   ],
   "source": [
    "cm.fit(X_train, Y_train)\n"
   ]
  },
  {
   "cell_type": "code",
   "execution_count": 34,
   "metadata": {},
   "outputs": [
    {
     "data": {
      "text/plain": [
       "0.8745"
      ]
     },
     "execution_count": 34,
     "metadata": {},
     "output_type": "execute_result"
    }
   ],
   "source": [
    "cm.score(X_validation, Y_validation)"
   ]
  },
  {
   "cell_type": "code",
   "execution_count": 35,
   "metadata": {},
   "outputs": [],
   "source": [
    "predictions = cm.predict(X_validation)\n"
   ]
  },
  {
   "cell_type": "code",
   "execution_count": 36,
   "metadata": {},
   "outputs": [
    {
     "name": "stdout",
     "output_type": "stream",
     "text": [
      "Accuracy:  0.8745\n"
     ]
    }
   ],
   "source": [
    "print(\"Accuracy: \", accuracy_score(Y_validation, predictions))"
   ]
  },
  {
   "cell_type": "code",
   "execution_count": 37,
   "metadata": {},
   "outputs": [
    {
     "name": "stdout",
     "output_type": "stream",
     "text": [
      "[[147   0   1   1   0   0   2   0   0   0   0   0   1   0   0   1   1   1\n",
      "    1   0   0   0   0   0   2   0]\n",
      " [  0 128   0   2   1   2   0   3   0   1   2   0   1   1   0   0   1   4\n",
      "    4   0   0   1   0   2   0   0]\n",
      " [  0   0 131   0   5   0   8   0   0   0   0   0   0   0   0   0   1   0\n",
      "    0   0   0   0   0   0   1   1]\n",
      " [  2   3   0 142   0   1   0   0   0   0   0   0   0   3   1   2   0   3\n",
      "    1   0   3   0   0   0   0   0]\n",
      " [  0   1   1   0 119   2   7   0   0   0   3   4   0   0   0   1   2   1\n",
      "    2   1   0   0   0   6   0   4]\n",
      " [  0   0   0   1   1 128   1   0   0   1   0   0   0   1   1   4   0   2\n",
      "    4   3   0   2   1   1   3   1]\n",
      " [  0   2   2   1   2   0 139   0   0   0   0   0   0   0   2   0   2   1\n",
      "    0   3   0   0   1   0   0   0]\n",
      " [  0   2   1   3   1   0   2 124   0   0   3   0   0   1   2   0   0   4\n",
      "    3   0   0   0   0   1   0   0]\n",
      " [  1   0   0   1   0   2   1   0 142   2   0   0   0   0   1   0   0   0\n",
      "    1   0   0   0   0   0   0   0]\n",
      " [  0   0   0   1   0   2   0   0   7 133   0   1   0   0   1   0   1   0\n",
      "    3   0   0   0   0   0   0   0]\n",
      " [  1   0   0   1   5   1   0   2   0   0 126   0   0   0   1   0   0   4\n",
      "    1   0   0   2   0   4   0   0]\n",
      " [  2   1   1   0   1   0   0   2   2   0   0 142   0   0   0   0   0   0\n",
      "    0   0   0   0   0   1   0   0]\n",
      " [  3   2   1   0   0   0   0   1   0   0   1   0 144   3   0   0   0   0\n",
      "    0   0   0   2   1   0   0   0]\n",
      " [  0   0   0   4   0   0   1   0   0   0   0   0   0 143   0   1   0   1\n",
      "    1   0   3   1   1   1   0   0]\n",
      " [  0   0   1   9   0   1   1   3   0   0   0   0   1   3 119   3   4   1\n",
      "    0   1   2   0   1   0   0   0]\n",
      " [  0   0   0   3   0   4   1   1   1   2   1   1   0   1   1 139   0   0\n",
      "    0   0   0   3   1   0   2   0]\n",
      " [  0   2   0   1   3   0   3   0   0   0   0   1   0   1   7   0 130   3\n",
      "    0   1   0   1   1   1   0   2]\n",
      " [  1   3   0   1   0   1   2   5   0   2   2   0   0   2   1   1   1 126\n",
      "    1   0   0   0   0   2   1   0]\n",
      " [  0   2   0   1   3   4   0   0   1   1   0   1   0   0   3   0   1   1\n",
      "  123   3   0   0   0   2   0   3]\n",
      " [  1   1   0   0   3   3   1   0   1   0   0   0   0   0   0   0   1   0\n",
      "    2 143   0   2   0   0   1   0]\n",
      " [  0   0   2   0   0   0   2   2   0   0   2   0   2   2   4   0   0   0\n",
      "    0   0 146   0   0   1   0   0]\n",
      " [  0   1   0   0   0   0   1   0   0   0   0   0   4   0   0   0   1   0\n",
      "    0   0   0 143   0   0   3   0]\n",
      " [  0   0   0   0   0   1   0   0   0   1   0   0   0   3   0   3   0   0\n",
      "    0   0   1   1 137   1   2   0]\n",
      " [  1   1   0   1   1   3   0   2   0   1   4   0   0   0   0   0   0   2\n",
      "    2   0   0   0   0 137   1   1]\n",
      " [  0   1   1   0   0   0   0   0   0   0   0   1   0   0   1   1   2   0\n",
      "    1  10   1   3   0   0 135   0]\n",
      " [  0   2   0   0   2   0   0   0   1   0   0   0   0   0   0   0   2   1\n",
      "    4   1   0   0   0   1   1 132]]\n"
     ]
    }
   ],
   "source": [
    "print(confusion_matrix(Y_validation, predictions))\n"
   ]
  },
  {
   "cell_type": "code",
   "execution_count": 38,
   "metadata": {},
   "outputs": [
    {
     "name": "stdout",
     "output_type": "stream",
     "text": [
      "              precision    recall  f1-score   support\n",
      "\n",
      "           A    0.92453   0.93038   0.92744       158\n",
      "           B    0.84211   0.83660   0.83934       153\n",
      "           C    0.92254   0.89116   0.90657       147\n",
      "           D    0.82081   0.88199   0.85030       161\n",
      "           E    0.80952   0.77273   0.79070       154\n",
      "           F    0.82581   0.82581   0.82581       155\n",
      "           G    0.80814   0.89677   0.85015       155\n",
      "           H    0.85517   0.84354   0.84932       147\n",
      "           I    0.91613   0.94040   0.92810       151\n",
      "           J    0.92361   0.89262   0.90785       149\n",
      "           K    0.87500   0.85135   0.86301       148\n",
      "           L    0.94040   0.93421   0.93729       152\n",
      "           M    0.94118   0.91139   0.92605       158\n",
      "           N    0.87195   0.91083   0.89097       157\n",
      "           O    0.82069   0.79333   0.80678       150\n",
      "           P    0.89103   0.86335   0.87697       161\n",
      "           Q    0.86667   0.82803   0.84691       157\n",
      "           R    0.81290   0.82895   0.82085       152\n",
      "           S    0.79870   0.82550   0.81188       149\n",
      "           T    0.86145   0.89937   0.88000       159\n",
      "           U    0.93590   0.89571   0.91536       163\n",
      "           V    0.88820   0.93464   0.91083       153\n",
      "           W    0.95139   0.91333   0.93197       150\n",
      "           X    0.85093   0.87261   0.86164       157\n",
      "           Y    0.88816   0.85987   0.87379       157\n",
      "           Z    0.91667   0.89796   0.90722       147\n",
      "\n",
      "    accuracy                        0.87450      4000\n",
      "   macro avg    0.87537   0.87432   0.87450      4000\n",
      "weighted avg    0.87535   0.87450   0.87458      4000\n",
      "\n"
     ]
    }
   ],
   "source": [
    "print(classification_report(Y_validation, predictions, digits=5))"
   ]
  },
  {
   "cell_type": "code",
   "execution_count": 39,
   "metadata": {},
   "outputs": [
    {
     "data": {
      "text/plain": [
       "<matplotlib.axes._subplots.AxesSubplot at 0xa3c6750>"
      ]
     },
     "execution_count": 39,
     "metadata": {},
     "output_type": "execute_result"
    }
   ],
   "source": [
    "cm.poof()\n"
   ]
  },
  {
   "cell_type": "code",
   "execution_count": null,
   "metadata": {},
   "outputs": [],
   "source": []
  }
 ],
 "metadata": {
  "kernelspec": {
   "display_name": "Python 3",
   "language": "python",
   "name": "python3"
  },
  "language_info": {
   "codemirror_mode": {
    "name": "ipython",
    "version": 3
   },
   "file_extension": ".py",
   "mimetype": "text/x-python",
   "name": "python",
   "nbconvert_exporter": "python",
   "pygments_lexer": "ipython3",
   "version": "3.7.6"
  }
 },
 "nbformat": 4,
 "nbformat_minor": 4
}
