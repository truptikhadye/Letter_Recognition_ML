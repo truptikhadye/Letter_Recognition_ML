{
 "cells": [
  {
   "cell_type": "code",
   "execution_count": 4,
   "metadata": {},
   "outputs": [],
   "source": [
    "import pandas as pd\n",
    "from yellowbrick.classifier import ConfusionMatrix\n",
    "import matplotlib.pyplot as plt\n",
    "from sklearn import model_selection\n",
    "from sklearn.metrics import classification_report\n",
    "from sklearn.metrics import confusion_matrix\n",
    "from sklearn.metrics import accuracy_score\n",
    "from sklearn.naive_bayes import GaussianNB"
   ]
  },
  {
   "cell_type": "code",
   "execution_count": 6,
   "metadata": {},
   "outputs": [],
   "source": [
    "names = ['class',\n",
    "         'x-box',\n",
    "         'y-box',\n",
    "         'width',\n",
    "         'high',\n",
    "         'onpix',\n",
    "         'x-bar',\n",
    "         'y-bar',\n",
    "         'x2bar',\n",
    "         'y2bar',\n",
    "         'xybar',\n",
    "         'x2ybr',\n",
    "         'xy2br',\n",
    "         'x-ege',\n",
    "         'xegvy',\n",
    "         'y-ege',\n",
    "         'yegvx']\n",
    "\n",
    "dataset = pd.read_csv('letter-recog.csv')"
   ]
  },
  {
   "cell_type": "code",
   "execution_count": 7,
   "metadata": {},
   "outputs": [
    {
     "name": "stdout",
     "output_type": "stream",
     "text": [
      "(19999, 17)\n"
     ]
    }
   ],
   "source": [
    "print(dataset.shape)"
   ]
  },
  {
   "cell_type": "code",
   "execution_count": 8,
   "metadata": {},
   "outputs": [
    {
     "name": "stdout",
     "output_type": "stream",
     "text": [
      "                  2             8             3             5             1  \\\n",
      "count  19999.000000  19999.000000  19999.000000  19999.000000  19999.000000   \n",
      "mean       4.023651      7.035452      5.121956      5.372469      3.505975   \n",
      "std        1.913206      3.304631      2.014568      2.261445      2.190441   \n",
      "min        0.000000      0.000000      0.000000      0.000000      0.000000   \n",
      "25%        3.000000      5.000000      4.000000      4.000000      2.000000   \n",
      "50%        4.000000      7.000000      5.000000      6.000000      3.000000   \n",
      "75%        5.000000      9.000000      6.000000      7.000000      5.000000   \n",
      "max       15.000000     15.000000     15.000000     15.000000     15.000000   \n",
      "\n",
      "                8.1            13             0             6           6.1  \\\n",
      "count  19999.000000  19999.000000  19999.000000  19999.000000  19999.000000   \n",
      "mean       6.897545      7.500175      4.628831      5.178609      8.282164   \n",
      "std        2.026071      2.325087      2.699837      2.380875      2.488485   \n",
      "min        0.000000      0.000000      0.000000      0.000000      0.000000   \n",
      "25%        6.000000      6.000000      3.000000      4.000000      7.000000   \n",
      "50%        7.000000      7.000000      4.000000      5.000000      8.000000   \n",
      "75%        8.000000      9.000000      6.000000      7.000000     10.000000   \n",
      "max       15.000000     15.000000     15.000000     15.000000     15.000000   \n",
      "\n",
      "                 10           8.2           0.1           8.3           0.2  \\\n",
      "count  19999.000000  19999.000000  19999.000000  19999.000000  19999.000000   \n",
      "mean       6.453823      7.928996      3.046252      8.338867      3.691935   \n",
      "std        2.631016      2.080671      2.332500      1.546759      2.567004   \n",
      "min        0.000000      0.000000      0.000000      0.000000      0.000000   \n",
      "25%        5.000000      7.000000      1.000000      8.000000      2.000000   \n",
      "50%        6.000000      8.000000      3.000000      8.000000      3.000000   \n",
      "75%        8.000000      9.000000      4.000000      9.000000      5.000000   \n",
      "max       15.000000     15.000000     15.000000     15.000000     15.000000   \n",
      "\n",
      "               8.4  \n",
      "count  19999.00000  \n",
      "mean       7.80119  \n",
      "std        1.61751  \n",
      "min        0.00000  \n",
      "25%        7.00000  \n",
      "50%        8.00000  \n",
      "75%        9.00000  \n",
      "max       15.00000  \n"
     ]
    }
   ],
   "source": [
    "print(dataset.describe())\n"
   ]
  },
  {
   "cell_type": "code",
   "execution_count": 11,
   "metadata": {},
   "outputs": [],
   "source": [
    "array = dataset.values\n",
    "X = array[:, 1:17]\n",
    "Y = array[:, 0]"
   ]
  },
  {
   "cell_type": "code",
   "execution_count": 12,
   "metadata": {},
   "outputs": [
    {
     "name": "stdout",
     "output_type": "stream",
     "text": [
      "X matrix dimensionality: (19999, 16)\n",
      "Y vector dimensionality: (19999,)\n"
     ]
    }
   ],
   "source": [
    "print('X matrix dimensionality:', X.shape)\n",
    "print('Y vector dimensionality:', Y.shape)\n"
   ]
  },
  {
   "cell_type": "code",
   "execution_count": 13,
   "metadata": {},
   "outputs": [],
   "source": [
    "X_train, X_validation, Y_train, Y_validation = model_selection.train_test_split(X, Y, test_size=0.20,\n",
    "                                                                                random_state=10)"
   ]
  },
  {
   "cell_type": "code",
   "execution_count": 14,
   "metadata": {},
   "outputs": [
    {
     "name": "stdout",
     "output_type": "stream",
     "text": [
      "X_train:  (15999, 16)\n",
      "X_validation:  (4000, 16)\n",
      "Y_train:  (15999,)\n",
      "Y_validation:  (4000,)\n"
     ]
    }
   ],
   "source": [
    "print(\"X_train: \", X_train.shape)\n",
    "print(\"X_validation: \", X_validation.shape)\n",
    "print(\"Y_train: \", Y_train.shape)\n",
    "print(\"Y_validation: \", Y_validation.shape)"
   ]
  },
  {
   "cell_type": "code",
   "execution_count": 15,
   "metadata": {},
   "outputs": [],
   "source": [
    "gaussianNB = GaussianNB()"
   ]
  },
  {
   "cell_type": "code",
   "execution_count": 16,
   "metadata": {},
   "outputs": [
    {
     "data": {
      "image/png": "[encoded data removed]",
      "text/plain": [
       "<Figure size 576x396 with 1 Axes>"
      ]
     },
     "metadata": {},
     "output_type": "display_data"
    }
   ],
   "source": [
    "cm = ConfusionMatrix(gaussianNB, classes=\"A,B,C,D,E,F,G,H,I,J,K,L,M,N,O,P,Q,R,S,T,U,V,W,X,Y,Z\".split(','))"
   ]
  },
  {
   "cell_type": "code",
   "execution_count": 17,
   "metadata": {},
   "outputs": [
    {
     "data": {
      "text/plain": [
       "ConfusionMatrix(ax=<matplotlib.axes._subplots.AxesSubplot object at 0x02E272D0>,\n",
       "                classes=['A', 'B', 'C', 'D', 'E', 'F', 'G', 'H', 'I', 'J', 'K',\n",
       "                         'L', 'M', 'N', 'O', 'P', 'Q', 'R', 'S', 'T', 'U', 'V',\n",
       "                         'W', 'X', 'Y', 'Z'],\n",
       "                cmap=<matplotlib.colors.ListedColormap object at 0x05D82ED0>,\n",
       "                encoder=None, fontsize=None, force_model=False,\n",
       "                is_fitted='auto', model=None, percent=False,\n",
       "                sample_weight=None)"
      ]
     },
     "execution_count": 17,
     "metadata": {},
     "output_type": "execute_result"
    }
   ],
   "source": [
    "cm.fit(X_train, Y_train)\n"
   ]
  },
  {
   "cell_type": "code",
   "execution_count": 18,
   "metadata": {},
   "outputs": [
    {
     "data": {
      "text/plain": [
       "0.65075"
      ]
     },
     "execution_count": 18,
     "metadata": {},
     "output_type": "execute_result"
    }
   ],
   "source": [
    "cm.score(X_validation, Y_validation)\n"
   ]
  },
  {
   "cell_type": "code",
   "execution_count": 19,
   "metadata": {},
   "outputs": [],
   "source": [
    "predictions = cm.predict(X_validation)"
   ]
  },
  {
   "cell_type": "code",
   "execution_count": 20,
   "metadata": {},
   "outputs": [
    {
     "name": "stdout",
     "output_type": "stream",
     "text": [
      "Accuracy:  0.65075\n"
     ]
    }
   ],
   "source": [
    "print(\"Accuracy: \", accuracy_score(Y_validation, predictions))"
   ]
  },
  {
   "cell_type": "code",
   "execution_count": 21,
   "metadata": {},
   "outputs": [
    {
     "name": "stdout",
     "output_type": "stream",
     "text": [
      "[[155   0   0   0   0   0   0   0   0   0   1   0   4   2   0   0   2   2\n",
      "    1   0   0   0   1   1   1   0]\n",
      " [  0 100   0   7   0   0   3   1  11   0   1   0   2   0   0   0   2   9\n",
      "    2   0   0   0   4   2   0   0]\n",
      " [  0   0 122   0   3   0  10   0   0   0  14   0   0   0   4   0   2   1\n",
      "    4   0   1   0   0   0   0   0]\n",
      " [  3  12   0 134   0   0   0   0   3   2   2   0   4   0   5   0   0   7\n",
      "    1   0   0   0   0   0   1   0]\n",
      " [  0   0   2   0  49   0  26   0  10   0   5   0   0   0   0   0  10   1\n",
      "    6   5   2   0   0  29   0   3]\n",
      " [  0   6   0   7   0 102   2   0   1   0   0   0   0   2   0   3   4   0\n",
      "    2   4   0   0   2   2   0   0]\n",
      " [  1   2  26   1   0   1  75   0   2   0   5   0   2   0   3   0  15   2\n",
      "    2   0   0   0   3   1   0   0]\n",
      " [  1  10   0   8   0   2   0  40   5   0   5   0   7   2  21   0   2   9\n",
      "    0   0   1   0   4  19   2   0]\n",
      " [  0   4   0   6   3   1   0   0 114   7   1   1   0   0   0   0   1   0\n",
      "    9   0   0   0   0   0   0   1]\n",
      " [  0   2   0   8   0   2   0   0   4 107   0   0   1   0   1   1   0   3\n",
      "    9   0   0   0   0   2   0   0]\n",
      " [  0   8   0   3  17   0   6   1   3   0  64   0   1   2   0   0   0   9\n",
      "    0   3   2   0   0  17   0   0]\n",
      " [  1   6   0   0   3   0   2   0   0   7   9 122   0   0   0   0  12   2\n",
      "    1   0   0   0   0   1   1   0]\n",
      " [  4   2   0   0   0   0   1   1   0   0   1   0 150   0   2   0   1   0\n",
      "    0   0   1   0   5   0   0   0]\n",
      " [  0   0   0   3   0   0   0  14   0   0   3   0   5 110   1   1   0   2\n",
      "    0   0   2   4   4   0   0   0]\n",
      " [  1   3   0   8   0   0   4   2   2   0   3   0   4   0 113   0   1   8\n",
      "    0   0   1   1   3   0   0   0]\n",
      " [  0   1   0   2   0  16   7   1   0   0   0   0   0   0   0 118   1   0\n",
      "    1   1   0   0   9   0   2   0]\n",
      " [  3   1   0   0   0   0   2   0   3   0   1   0   5   0  35   0  74   0\n",
      "   18   0   0   0   0   0   0   0]\n",
      " [  2  12   0  14   0   0   1   7   1   2   5   0   5   0   0   0   1 108\n",
      "    0   0   0   0   2   1   0   0]\n",
      " [  9  28   0   1   1   0   2   2   8   0   0   0   0   0   0   0   5   1\n",
      "   50   4   1   0   0  15   1  17]\n",
      " [  0   0   0   2   1  10   3   1   0   0   5   0   0   0   0   0   1   1\n",
      "    2 112   1   1   0   7  12   1]\n",
      " [  0   0   0   2   0   0   2   9   0   0   8   0  15   3   1   0   1   0\n",
      "    0   0 117   0   2   0   1   0]\n",
      " [  0   3   0   0   0   1   1   0   0   0   0   0   7   0   0   6   0   0\n",
      "    0   0   0 124   7   0  12   0]\n",
      " [  0   5   0   0   0   0   0   1   0   0   0   0  14   0   7   1   0   0\n",
      "    0   0   0  10 119   0   1   0]\n",
      " [  0   5   0   2   1   0   0   0  15   2   2   3   0   0  30   1   0   1\n",
      "    4   4   6   0   0  79   1   7]\n",
      " [  0   0   0   1   0  10   0   0   0   0   1   0   1   1   0   2  13   0\n",
      "    9  33   1  35   2   0  58   0]\n",
      " [  1   0   0   1   8   4   0   0  20   1   3   1   0   0   0   0   1   2\n",
      "   14   2   0   0   0   2   1  87]]\n"
     ]
    }
   ],
   "source": [
    "print(confusion_matrix(Y_validation, predictions))\n"
   ]
  },
  {
   "cell_type": "code",
   "execution_count": 22,
   "metadata": {},
   "outputs": [
    {
     "name": "stdout",
     "output_type": "stream",
     "text": [
      "              precision    recall  f1-score   support\n",
      "\n",
      "           A    0.85635   0.91176   0.88319       170\n",
      "           B    0.47619   0.69444   0.56497       144\n",
      "           C    0.81333   0.75776   0.78457       161\n",
      "           D    0.63810   0.77011   0.69792       174\n",
      "           E    0.56977   0.33108   0.41880       148\n",
      "           F    0.68456   0.74453   0.71329       137\n",
      "           G    0.51020   0.53191   0.52083       141\n",
      "           H    0.50000   0.28986   0.36697       138\n",
      "           I    0.56436   0.77027   0.65143       148\n",
      "           J    0.83594   0.76429   0.79851       140\n",
      "           K    0.46043   0.47059   0.46545       136\n",
      "           L    0.96063   0.73054   0.82993       167\n",
      "           M    0.66079   0.89286   0.75949       168\n",
      "           N    0.90164   0.73826   0.81181       149\n",
      "           O    0.50673   0.73377   0.59947       154\n",
      "           P    0.88722   0.74214   0.80822       159\n",
      "           Q    0.49664   0.52113   0.50859       142\n",
      "           R    0.64286   0.67081   0.65653       161\n",
      "           S    0.37037   0.34483   0.35714       145\n",
      "           T    0.66667   0.70000   0.68293       160\n",
      "           U    0.86029   0.72671   0.78788       161\n",
      "           V    0.70857   0.77019   0.73810       161\n",
      "           W    0.71257   0.75316   0.73231       158\n",
      "           X    0.44382   0.48466   0.46334       163\n",
      "           Y    0.61702   0.34731   0.44444       167\n",
      "           Z    0.75000   0.58784   0.65909       148\n",
      "\n",
      "    accuracy                        0.65075      4000\n",
      "   macro avg    0.65750   0.64542   0.64251      4000\n",
      "weighted avg    0.66230   0.65075   0.64754      4000\n",
      "\n"
     ]
    }
   ],
   "source": [
    "print(classification_report(Y_validation, predictions, digits=5))"
   ]
  },
  {
   "cell_type": "code",
   "execution_count": 23,
   "metadata": {},
   "outputs": [
    {
     "data": {
      "text/plain": [
       "<matplotlib.axes._subplots.AxesSubplot at 0x2e272d0>"
      ]
     },
     "execution_count": 23,
     "metadata": {},
     "output_type": "execute_result"
    }
   ],
   "source": [
    "cm.poof()\n"
   ]
  },
  {
   "cell_type": "code",
   "execution_count": null,
   "metadata": {},
   "outputs": [],
   "source": []
  }
 ],
 "metadata": {
  "kernelspec": {
   "display_name": "Python 3",
   "language": "python",
   "name": "python3"
  },
  "language_info": {
   "codemirror_mode": {
    "name": "ipython",
    "version": 3
   },
   "file_extension": ".py",
   "mimetype": "text/x-python",
   "name": "python",
   "nbconvert_exporter": "python",
   "pygments_lexer": "ipython3",
   "version": "3.7.6"
  }
 },
 "nbformat": 4,
 "nbformat_minor": 4
}
