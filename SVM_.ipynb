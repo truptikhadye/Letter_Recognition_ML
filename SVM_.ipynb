{
 "cells": [
  {
   "cell_type": "code",
   "execution_count": 1,
   "metadata": {},
   "outputs": [],
   "source": [
    "import pandas as pd\n",
    "from yellowbrick.classifier import ConfusionMatrix\n",
    "import matplotlib.pyplot as plt\n",
    "from sklearn import model_selection\n",
    "from sklearn.metrics import classification_report\n",
    "from sklearn.metrics import confusion_matrix\n",
    "from sklearn.metrics import accuracy_score\n",
    "from sklearn.svm import SVC"
   ]
  },
  {
   "cell_type": "code",
   "execution_count": 2,
   "metadata": {},
   "outputs": [],
   "source": [
    "names = ['class',\n",
    "         'x-box',\n",
    "         'y-box',\n",
    "         'width',\n",
    "         'high',\n",
    "         'onpix',\n",
    "         'x-bar',\n",
    "         'y-bar',\n",
    "         'x2bar',\n",
    "         'y2bar',\n",
    "         'xybar',\n",
    "         'x2ybr',\n",
    "         'xy2br',\n",
    "         'x-ege',\n",
    "         'xegvy',\n",
    "         'y-ege',\n",
    "         'yegvx']\n",
    "\n",
    "dataset = pd.read_csv('letter-recog.csv')\n"
   ]
  },
  {
   "cell_type": "code",
   "execution_count": 3,
   "metadata": {},
   "outputs": [
    {
     "name": "stdout",
     "output_type": "stream",
     "text": [
      "(19999, 17)\n"
     ]
    }
   ],
   "source": [
    " print(dataset.shape)"
   ]
  },
  {
   "cell_type": "code",
   "execution_count": 4,
   "metadata": {},
   "outputs": [
    {
     "name": "stdout",
     "output_type": "stream",
     "text": [
      "                  2             8             3             5             1  \\\n",
      "count  19999.000000  19999.000000  19999.000000  19999.000000  19999.000000   \n",
      "mean       4.023651      7.035452      5.121956      5.372469      3.505975   \n",
      "std        1.913206      3.304631      2.014568      2.261445      2.190441   \n",
      "min        0.000000      0.000000      0.000000      0.000000      0.000000   \n",
      "25%        3.000000      5.000000      4.000000      4.000000      2.000000   \n",
      "50%        4.000000      7.000000      5.000000      6.000000      3.000000   \n",
      "75%        5.000000      9.000000      6.000000      7.000000      5.000000   \n",
      "max       15.000000     15.000000     15.000000     15.000000     15.000000   \n",
      "\n",
      "                8.1            13             0             6           6.1  \\\n",
      "count  19999.000000  19999.000000  19999.000000  19999.000000  19999.000000   \n",
      "mean       6.897545      7.500175      4.628831      5.178609      8.282164   \n",
      "std        2.026071      2.325087      2.699837      2.380875      2.488485   \n",
      "min        0.000000      0.000000      0.000000      0.000000      0.000000   \n",
      "25%        6.000000      6.000000      3.000000      4.000000      7.000000   \n",
      "50%        7.000000      7.000000      4.000000      5.000000      8.000000   \n",
      "75%        8.000000      9.000000      6.000000      7.000000     10.000000   \n",
      "max       15.000000     15.000000     15.000000     15.000000     15.000000   \n",
      "\n",
      "                 10           8.2           0.1           8.3           0.2  \\\n",
      "count  19999.000000  19999.000000  19999.000000  19999.000000  19999.000000   \n",
      "mean       6.453823      7.928996      3.046252      8.338867      3.691935   \n",
      "std        2.631016      2.080671      2.332500      1.546759      2.567004   \n",
      "min        0.000000      0.000000      0.000000      0.000000      0.000000   \n",
      "25%        5.000000      7.000000      1.000000      8.000000      2.000000   \n",
      "50%        6.000000      8.000000      3.000000      8.000000      3.000000   \n",
      "75%        8.000000      9.000000      4.000000      9.000000      5.000000   \n",
      "max       15.000000     15.000000     15.000000     15.000000     15.000000   \n",
      "\n",
      "               8.4  \n",
      "count  19999.00000  \n",
      "mean       7.80119  \n",
      "std        1.61751  \n",
      "min        0.00000  \n",
      "25%        7.00000  \n",
      "50%        8.00000  \n",
      "75%        9.00000  \n",
      "max       15.00000  \n"
     ]
    }
   ],
   "source": [
    "print(dataset.describe())"
   ]
  },
  {
   "cell_type": "code",
   "execution_count": 5,
   "metadata": {},
   "outputs": [],
   "source": [
    "array = dataset.values\n",
    "\n",
    "X = array[:, 1:17]\n",
    "Y = array[:, 0]"
   ]
  },
  {
   "cell_type": "code",
   "execution_count": 6,
   "metadata": {},
   "outputs": [
    {
     "name": "stdout",
     "output_type": "stream",
     "text": [
      "X matrix dimensionality: (19999, 16)\n",
      "Y vector dimensionality: (19999,)\n"
     ]
    }
   ],
   "source": [
    "print('X matrix dimensionality:', X.shape)\n",
    "print('Y vector dimensionality:', Y.shape)\n"
   ]
  },
  {
   "cell_type": "code",
   "execution_count": 7,
   "metadata": {},
   "outputs": [],
   "source": [
    "X_train, X_validation, Y_train, Y_validation = model_selection.train_test_split(X, Y, test_size=0.20,\n",
    "                                                                                random_state=10)"
   ]
  },
  {
   "cell_type": "code",
   "execution_count": 8,
   "metadata": {},
   "outputs": [
    {
     "name": "stdout",
     "output_type": "stream",
     "text": [
      "X_train:  (15999, 16)\n",
      "X_validation:  (4000, 16)\n",
      "Y_train:  (15999,)\n",
      "Y_validation:  (4000,)\n"
     ]
    }
   ],
   "source": [
    "print(\"X_train: \", X_train.shape)\n",
    "print(\"X_validation: \", X_validation.shape)\n",
    "print(\"Y_train: \", Y_train.shape)\n",
    "print(\"Y_validation: \", Y_validation.shape)\n"
   ]
  },
  {
   "cell_type": "code",
   "execution_count": 9,
   "metadata": {},
   "outputs": [],
   "source": [
    "svc = SVC(kernel='rbf', gamma='auto', C=6)"
   ]
  },
  {
   "cell_type": "code",
   "execution_count": 10,
   "metadata": {},
   "outputs": [
    {
     "data": {
      "image/png": "[encoded data removed]",
      "text/plain": [
       "<Figure size 576x396 with 1 Axes>"
      ]
     },
     "metadata": {},
     "output_type": "display_data"
    }
   ],
   "source": [
    "cm = ConfusionMatrix(svc, classes=\"A,B,C,D,E,F,G,H,I,J,K,L,M,N,O,P,Q,R,S,T,U,V,W,X,Y,Z\".split(','))"
   ]
  },
  {
   "cell_type": "code",
   "execution_count": 11,
   "metadata": {},
   "outputs": [
    {
     "data": {
      "text/plain": [
       "ConfusionMatrix(ax=<matplotlib.axes._subplots.AxesSubplot object at 0x08F8F510>,\n",
       "                classes=['A', 'B', 'C', 'D', 'E', 'F', 'G', 'H', 'I', 'J', 'K',\n",
       "                         'L', 'M', 'N', 'O', 'P', 'Q', 'R', 'S', 'T', 'U', 'V',\n",
       "                         'W', 'X', 'Y', 'Z'],\n",
       "                cmap=<matplotlib.colors.ListedColormap object at 0x00828E30>,\n",
       "                encoder=None, fontsize=None, force_model=False,\n",
       "                is_fitted='auto', model=None, percent=False,\n",
       "                sample_weight=None)"
      ]
     },
     "execution_count": 11,
     "metadata": {},
     "output_type": "execute_result"
    }
   ],
   "source": [
    "cm.fit(X_train, Y_train)\n"
   ]
  },
  {
   "cell_type": "code",
   "execution_count": 12,
   "metadata": {},
   "outputs": [
    {
     "data": {
      "text/plain": [
       "0.98"
      ]
     },
     "execution_count": 12,
     "metadata": {},
     "output_type": "execute_result"
    }
   ],
   "source": [
    "cm.score(X_validation, Y_validation)"
   ]
  },
  {
   "cell_type": "code",
   "execution_count": 13,
   "metadata": {},
   "outputs": [],
   "source": [
    "predictions = cm.predict(X_validation)"
   ]
  },
  {
   "cell_type": "code",
   "execution_count": 14,
   "metadata": {},
   "outputs": [
    {
     "name": "stdout",
     "output_type": "stream",
     "text": [
      "Accuracy:  0.98\n"
     ]
    }
   ],
   "source": [
    "print(\"Accuracy: \", accuracy_score(Y_validation, predictions))\n"
   ]
  },
  {
   "cell_type": "code",
   "execution_count": 15,
   "metadata": {},
   "outputs": [
    {
     "name": "stdout",
     "output_type": "stream",
     "text": [
      "[[170   0   0   0   0   0   0   0   0   0   0   0   0   0   0   0   0   0\n",
      "    0   0   0   0   0   0   0   0]\n",
      " [  0 143   0   0   0   0   0   0   0   0   0   0   0   0   0   0   0   0\n",
      "    0   0   0   0   0   1   0   0]\n",
      " [  0   0 157   0   2   0   0   0   0   0   0   0   0   0   2   0   0   0\n",
      "    0   0   0   0   0   0   0   0]\n",
      " [  0   1   0 170   0   0   0   2   0   0   0   0   0   0   1   0   0   0\n",
      "    0   0   0   0   0   0   0   0]\n",
      " [  0   0   1   0 146   0   0   0   0   0   0   0   0   0   0   0   0   0\n",
      "    0   0   0   0   0   0   0   1]\n",
      " [  0   0   0   0   1 131   0   0   1   0   0   0   0   1   0   1   0   0\n",
      "    0   2   0   0   0   0   0   0]\n",
      " [  0   2   0   0   2   0 136   0   0   0   0   0   1   0   0   0   0   0\n",
      "    0   0   0   0   0   0   0   0]\n",
      " [  0   0   0   1   1   0   1 128   0   0   2   0   0   2   0   0   0   2\n",
      "    0   0   1   0   0   0   0   0]\n",
      " [  0   0   0   0   0   0   0   0 142   6   0   0   0   0   0   0   0   0\n",
      "    0   0   0   0   0   0   0   0]\n",
      " [  0   0   0   0   0   0   0   1   2 136   0   0   0   0   0   0   1   0\n",
      "    0   0   0   0   0   0   0   0]\n",
      " [  0   0   0   0   0   0   0   1   0   0 133   0   0   0   0   0   0   1\n",
      "    0   0   0   0   0   1   0   0]\n",
      " [  0   0   0   0   1   0   1   0   0   0   0 165   0   0   0   0   0   0\n",
      "    0   0   0   0   0   0   0   0]\n",
      " [  0   0   0   0   0   0   0   0   0   0   0   0 166   0   0   0   0   0\n",
      "    0   0   0   0   2   0   0   0]\n",
      " [  0   0   0   0   0   0   0   0   0   0   0   0   0 147   1   0   0   1\n",
      "    0   0   0   0   0   0   0   0]\n",
      " [  0   0   1   3   0   0   0   0   0   0   0   0   0   0 148   0   2   0\n",
      "    0   0   0   0   0   0   0   0]\n",
      " [  0   0   0   0   0   4   0   0   0   0   0   0   0   0   0 153   0   0\n",
      "    0   0   0   0   0   0   2   0]\n",
      " [  0   0   0   0   0   0   0   0   0   0   0   0   0   0   0   0 142   0\n",
      "    0   0   0   0   0   0   0   0]\n",
      " [  0   1   0   0   0   0   0   2   0   0   0   0   0   0   0   0   0 158\n",
      "    0   0   0   0   0   0   0   0]\n",
      " [  0   0   0   0   1   0   0   0   0   0   0   0   0   0   0   0   0   0\n",
      "  144   0   0   0   0   0   0   0]\n",
      " [  0   0   0   3   0   1   0   0   0   0   0   0   0   0   0   0   0   0\n",
      "    0 156   0   0   0   0   0   0]\n",
      " [  0   0   0   0   0   0   0   0   0   0   0   0   0   1   0   0   0   0\n",
      "    0   0 160   0   0   0   0   0]\n",
      " [  0   1   0   0   0   0   0   0   0   0   0   0   0   0   0   1   0   0\n",
      "    0   0   0 159   0   0   0   0]\n",
      " [  0   0   0   0   0   0   1   1   0   0   0   0   1   0   0   0   0   0\n",
      "    0   0   0   0 155   0   0   0]\n",
      " [  0   0   0   0   0   0   0   0   0   0   0   0   0   0   0   0   0   0\n",
      "    0   0   0   0   0 163   0   0]\n",
      " [  0   1   0   0   0   0   0   0   0   0   0   0   0   0   0   0   0   0\n",
      "    0   1   0   0   0   0 165   0]\n",
      " [  0   0   0   0   0   0   0   0   0   0   0   0   0   0   0   0   1   0\n",
      "    0   0   0   0   0   0   0 147]]\n"
     ]
    }
   ],
   "source": [
    "print(confusion_matrix(Y_validation, predictions))"
   ]
  },
  {
   "cell_type": "code",
   "execution_count": 16,
   "metadata": {},
   "outputs": [
    {
     "name": "stdout",
     "output_type": "stream",
     "text": [
      "              precision    recall  f1-score   support\n",
      "\n",
      "           A    1.00000   1.00000   1.00000       170\n",
      "           B    0.95973   0.99306   0.97611       144\n",
      "           C    0.98742   0.97516   0.98125       161\n",
      "           D    0.96045   0.97701   0.96866       174\n",
      "           E    0.94805   0.98649   0.96689       148\n",
      "           F    0.96324   0.95620   0.95971       137\n",
      "           G    0.97842   0.96454   0.97143       141\n",
      "           H    0.94815   0.92754   0.93773       138\n",
      "           I    0.97931   0.95946   0.96928       148\n",
      "           J    0.95775   0.97143   0.96454       140\n",
      "           K    0.98519   0.97794   0.98155       136\n",
      "           L    1.00000   0.98802   0.99398       167\n",
      "           M    0.98810   0.98810   0.98810       168\n",
      "           N    0.97351   0.98658   0.98000       149\n",
      "           O    0.97368   0.96104   0.96732       154\n",
      "           P    0.98710   0.96226   0.97452       159\n",
      "           Q    0.97260   1.00000   0.98611       142\n",
      "           R    0.97531   0.98137   0.97833       161\n",
      "           S    1.00000   0.99310   0.99654       145\n",
      "           T    0.98113   0.97500   0.97806       160\n",
      "           U    0.99379   0.99379   0.99379       161\n",
      "           V    1.00000   0.98758   0.99375       161\n",
      "           W    0.98726   0.98101   0.98413       158\n",
      "           X    0.98788   1.00000   0.99390       163\n",
      "           Y    0.98802   0.98802   0.98802       167\n",
      "           Z    0.99324   0.99324   0.99324       148\n",
      "\n",
      "    accuracy                        0.98000      4000\n",
      "   macro avg    0.97959   0.97954   0.97950      4000\n",
      "weighted avg    0.98011   0.98000   0.97999      4000\n",
      "\n"
     ]
    }
   ],
   "source": [
    "print(classification_report(Y_validation, predictions, digits=5))"
   ]
  },
  {
   "cell_type": "code",
   "execution_count": 17,
   "metadata": {},
   "outputs": [
    {
     "data": {
      "text/plain": [
       "<matplotlib.axes._subplots.AxesSubplot at 0x8f8f510>"
      ]
     },
     "execution_count": 17,
     "metadata": {},
     "output_type": "execute_result"
    }
   ],
   "source": [
    "cm.poof()"
   ]
  },
  {
   "cell_type": "code",
   "execution_count": null,
   "metadata": {},
   "outputs": [],
   "source": []
  }
 ],
 "metadata": {
  "kernelspec": {
   "display_name": "Python 3",
   "language": "python",
   "name": "python3"
  },
  "language_info": {
   "codemirror_mode": {
    "name": "ipython",
    "version": 3
   },
   "file_extension": ".py",
   "mimetype": "text/x-python",
   "name": "python",
   "nbconvert_exporter": "python",
   "pygments_lexer": "ipython3",
   "version": "3.7.6"
  }
 },
 "nbformat": 4,
 "nbformat_minor": 4
}
